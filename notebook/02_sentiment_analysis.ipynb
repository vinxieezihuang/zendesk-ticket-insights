{
 "cells": [
  {
   "cell_type": "markdown",
   "id": "d9d50db8",
   "metadata": {},
   "source": [
    "# 💬 Zendesk Ticket Sentiment Analysis"
   ]
  },
  {
   "cell_type": "code",
   "execution_count": null,
   "id": "b2632c4e",
   "metadata": {},
   "outputs": [],
   "source": [
    "import pandas as pd\n",
    "from textblob import TextBlob\n",
    "import seaborn as sns\n",
    "import matplotlib.pyplot as plt\n",
    "\n",
    "# Load the data\n",
    "df = pd.read_csv('../data/zendesk_sample.csv')\n"
   ]
  },
  {
   "cell_type": "markdown",
   "id": "f2223d1c",
   "metadata": {},
   "source": [
    "## 🧠 Generate Sentiment Scores"
   ]
  },
  {
   "cell_type": "code",
   "execution_count": null,
   "id": "6114ca30",
   "metadata": {},
   "outputs": [],
   "source": [
    "def get_sentiment(text):\n",
    "    return TextBlob(str(text)).sentiment.polarity\n",
    "\n",
    "df['sentiment'] = df['ticket_text'].apply(get_sentiment)\n",
    "df[['ticket_text', 'sentiment']].head()\n"
   ]
  },
  {
   "cell_type": "markdown",
   "id": "92f884fc",
   "metadata": {},
   "source": [
    "## 📊 Sentiment Score Distribution"
   ]
  },
  {
   "cell_type": "code",
   "execution_count": null,
   "id": "7aa6ce0f",
   "metadata": {},
   "outputs": [],
   "source": [
    "sns.histplot(df['sentiment'], bins=20)\n",
    "plt.title('Sentiment Score Distribution')\n",
    "plt.xlabel('Sentiment Polarity')\n",
    "plt.ylabel('Count')\n",
    "plt.show()\n"
   ]
  },
  {
   "cell_type": "markdown",
   "id": "1ff5a2a8",
   "metadata": {},
   "source": [
    "## 😄 Sentiment Classification"
   ]
  },
  {
   "cell_type": "code",
   "execution_count": null,
   "id": "974b1ad8",
   "metadata": {},
   "outputs": [],
   "source": [
    "def classify_sentiment(score):\n",
    "    if score > 0.1:\n",
    "        return 'Positive'\n",
    "    elif score < -0.1:\n",
    "        return 'Negative'\n",
    "    else:\n",
    "        return 'Neutral'\n",
    "\n",
    "df['sentiment_label'] = df['sentiment'].apply(classify_sentiment)\n",
    "df['sentiment_label'].value_counts().plot(kind='bar', title='Sentiment Labels')\n",
    "plt.ylabel('Ticket Count')\n",
    "plt.show()\n"
   ]
  }
 ],
 "metadata": {},
 "nbformat": 4,
 "nbformat_minor": 5
}