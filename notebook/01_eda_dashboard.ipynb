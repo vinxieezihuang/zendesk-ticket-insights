{
 "cells": [
  {
   "cell_type": "markdown",
   "id": "cd3a83cc",
   "metadata": {},
   "source": [
    "# 📊 Zendesk Ticket EDA Dashboard"
   ]
  },
  {
   "cell_type": "code",
   "execution_count": null,
   "id": "43f29e47",
   "metadata": {},
   "outputs": [],
   "source": [
    "import pandas as pd\n",
    "import matplotlib.pyplot as plt\n",
    "import seaborn as sns\n",
    "\n",
    "# Load the data\n",
    "df = pd.read_csv('../data/zendesk_sample.csv')\n",
    "df['created_at'] = pd.to_datetime(df['created_at'])\n",
    "df.head()\n"
   ]
  },
  {
   "cell_type": "markdown",
   "id": "0c4b5bf1",
   "metadata": {},
   "source": [
    "## 📈 Ticket Volume Over Time"
   ]
  },
  {
   "cell_type": "code",
   "execution_count": null,
   "id": "a66ee3c4",
   "metadata": {},
   "outputs": [],
   "source": [
    "df['date'] = df['created_at'].dt.date\n",
    "ticket_counts = df.groupby('date').size()\n",
    "ticket_counts.plot(kind='line', figsize=(12,6), title='Ticket Volume Over Time')\n",
    "plt.xlabel('Date')\n",
    "plt.ylabel('Number of Tickets')\n",
    "plt.grid(True)\n",
    "plt.show()\n"
   ]
  },
  {
   "cell_type": "markdown",
   "id": "14380109",
   "metadata": {},
   "source": [
    "## 🧪 CSAT Distribution"
   ]
  },
  {
   "cell_type": "code",
   "execution_count": null,
   "id": "8c7cbf42",
   "metadata": {},
   "outputs": [],
   "source": [
    "sns.histplot(df['csat_score'].dropna(), bins=5, kde=False)\n",
    "plt.title('CSAT Score Distribution')\n",
    "plt.xlabel('CSAT Score')\n",
    "plt.ylabel('Frequency')\n",
    "plt.show()\n"
   ]
  },
  {
   "cell_type": "markdown",
   "id": "d705f6b1",
   "metadata": {},
   "source": [
    "## 🗂️ Ticket Status & Type Breakdown"
   ]
  },
  {
   "cell_type": "code",
   "execution_count": null,
   "id": "ede3aa6e",
   "metadata": {},
   "outputs": [],
   "source": [
    "df['status'].value_counts().plot(kind='bar', title='Ticket Status Count')\n",
    "plt.ylabel('Count')\n",
    "plt.show()\n",
    "\n",
    "df['ticket_type'].value_counts().plot(kind='pie', autopct='%1.1f%%', title='Ticket Type Distribution')\n",
    "plt.ylabel('')\n",
    "plt.show()\n"
   ]
  },
  {
   "cell_type": "markdown",
   "id": "c676f68d",
   "metadata": {},
   "source": [
    "## 🔖 Top Tags or Categories"
   ]
  },
  {
   "cell_type": "code",
   "execution_count": null,
   "id": "16cd8769",
   "metadata": {},
   "outputs": [],
   "source": [
    "from collections import Counter\n",
    "\n",
    "all_tags = df['tags'].dropna().str.split(',').sum()\n",
    "tag_counts = pd.Series(Counter(all_tags)).sort_values(ascending=False)\n",
    "tag_counts.head(10).plot(kind='bar', title='Top 10 Tags')\n",
    "plt.ylabel('Frequency')\n",
    "plt.show()\n"
   ]
  }
 ],
 "metadata": {},
 "nbformat": 4,
 "nbformat_minor": 5
}